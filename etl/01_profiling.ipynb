{
 "cells": [
  {
   "cell_type": "markdown",
   "id": "2dfebd33",
   "metadata": {},
   "source": []
  },
  {
   "cell_type": "code",
   "execution_count": null,
   "id": "dd6cfe84",
   "metadata": {},
   "outputs": [
    {
     "data": {
      "text/html": [
       "\n",
       "            <div>\n",
       "                <ins><a href=\"https://ydata.ai/register\">Upgrade to ydata-sdk</a></ins>\n",
       "                <p>\n",
       "                    Improve your data and profiling with ydata-sdk, featuring data quality scoring, redundancy detection, outlier identification, text validation, and synthetic data generation.\n",
       "                </p>\n",
       "            </div>\n",
       "            "
      ],
      "text/plain": [
       "<IPython.core.display.HTML object>"
      ]
     },
     "metadata": {},
     "output_type": "display_data"
    },
    {
     "data": {
      "application/vnd.jupyter.widget-view+json": {
       "model_id": "7af40a8ae6134d3eaecff82992a7b003",
       "version_major": 2,
       "version_minor": 0
      },
      "text/plain": [
       "Summarize dataset:   0%|          | 0/5 [00:00<?, ?it/s]"
      ]
     },
     "metadata": {},
     "output_type": "display_data"
    }
   ],
   "source": [
    "import pandas as pd\n",
    "from ydata_profiling import ProfileReport\n",
    "from pathlib import Path\n",
    "import json\n",
    "\n",
    "RAW = Path(\"C:/Users/Martin/Documents/GitHub/Aeropuertos/data/raw\")\n",
    "DOCS = Path(\"C:/Users/Martin/Documents/GitHub/Aeropuertos/docs\")\n",
    "INTERIM = Path(\"data/interim\")\n",
    "DOCS.mkdir(exist_ok=True, parents=True)\n",
    "INTERIM.mkdir(exist_ok=True, parents=True)\n",
    "\n",
    "# 1) Carga\n",
    "flights = pd.read_csv(RAW/\"S2_flights.csv\")\n",
    "airports = pd.read_csv(RAW/\"S1_airports.csv\")\n",
    "\n",
    "# 2) Perfilado HTML\n",
    "ProfileReport(flights, title=\"Profiling - Flights\", explorative=True)\\\n",
    "    .to_file(DOCS/\"flights_profile.html\")\n",
    "ProfileReport(airports, title=\"Profiling - Airports\", explorative=True)\\\n",
    "    .to_file(DOCS/\"airports_profile.html\")\n",
    "\n",
    "# 3) Resumen estructural\n",
    "def schema_summary(df):\n",
    "    return (pd.DataFrame({\n",
    "        \"column\": df.columns,\n",
    "        \"dtype\": [str(t) for t in df.dtypes],\n",
    "        \"null_pct\": df.isna().mean().values,\n",
    "        \"n_unique\": [df[c].nunique(dropna=True) for c in df.columns]\n",
    "    }))\n",
    "\n",
    "sch_f = schema_summary(flights)\n",
    "sch_a = schema_summary(airports)\n",
    "sch_f.to_csv(INTERIM/\"schema_flights.csv\", index=False)\n",
    "sch_a.to_csv(INTERIM/\"schema_airports.csv\", index=False)\n",
    "\n",
    "# 4) Chequeos mínimos\n",
    "summary = {\n",
    "    \"flights\": {\n",
    "        \"rows\": len(flights),\n",
    "        \"cols\": flights.shape[1],\n",
    "        \"min_rows_ok\": len(flights) >= 10000,\n",
    "        \"min_cols_ok\": flights.shape[1] >= 15\n",
    "    },\n",
    "    \"airports\": {\n",
    "        \"rows\": len(airports),\n",
    "        \"cols\": airports.shape[1]\n",
    "    }\n",
    "}\n",
    "(DOCS/\"profiling_summary.json\").write_text(json.dumps(summary, indent=2))\n",
    "\n",
    "# 5) Sugerencias rápidas (ejemplo)\n",
    "suggestions = {\n",
    "    \"possible_keys\": {\n",
    "        \"airports\": [\"IATA\", \"ICAO\"],\n",
    "        \"flights_to_airports_join\": {\n",
    "            \"left\": [\"Origin\", \"Destination\"],\n",
    "            \"right\": \"IATA\"\n",
    "        }\n",
    "    },\n",
    "    \"datetime_candidates\": [c for c in flights.columns if \"sched\" in c.lower() or \"actual\" in c.lower()],\n",
    "}\n",
    "(DOCS/\"profiling_suggestions.json\").write_text(json.dumps(suggestions, indent=2))\n",
    "\n",
    "print(\"✅ Profiling completado. Revisa docs/*.html y docs/profiling_summary.json\")\n"
   ]
  },
  {
   "cell_type": "markdown",
   "id": "cd89b308",
   "metadata": {},
   "source": []
  }
 ],
 "metadata": {
  "kernelspec": {
   "display_name": "Python 3",
   "language": "python",
   "name": "python3"
  },
  "language_info": {
   "codemirror_mode": {
    "name": "ipython",
    "version": 3
   },
   "file_extension": ".py",
   "mimetype": "text/x-python",
   "name": "python",
   "nbconvert_exporter": "python",
   "pygments_lexer": "ipython3",
   "version": "3.11.9"
  }
 },
 "nbformat": 4,
 "nbformat_minor": 5
}
